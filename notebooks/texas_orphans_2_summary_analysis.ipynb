{
 "cells": [
  {
   "cell_type": "markdown",
   "metadata": {},
   "source": [
    "# Analysis of Orphan Wells in Texas\n",
    "\n",
    "## Overview\n",
    "\n",
    "This notebook analyzes the distribution and regulatory performance of orphan wells in Texas. The analysis focuses on two main aspects:\n",
    "1. The distribution of plugged and unplugged orphan wells.\n",
    "2. The inspection and violation history of these wells.\n",
    "3. The spatial distribution of orphan wells across different districts and district offices.\n",
    "4. The most recent inspection and violation dates for orphan wells.\n",
    "5. The operators and districts with the highest number of orphan wells, both plugged and unplugged.\n",
    "\n",
    "## Data Sources\n",
    "\n",
    "- **Well Data**: Contains information about wells including their API number, operator, lease name, completion date, and plug date.\n",
    "- **Well Shapes**: Geospatial data of wells.\n",
    "- **Orphaned Wells Shape**: Contains information about orphaned wells including a unique identifier (`well_ident`).\n",
    "- **Inspections**: Contains details about inspections including `inspection_date`, `operator_name`, `district`, and `district_office_inspecting`.\n",
    "- **Violations**: Contains details about violations including `violation_disc_date`.\n",
    "- **Well Inspections**: Maps wells to their inspections.\n",
    "- **Well Violations**: Maps wells to their violations.\n",
    "\n",
    "## Key Steps and Analysis\n",
    "\n",
    "### 1. Data Preparation\n",
    "\n",
    "- **Standardized API Numbers**: Extracted 8-digit API numbers from the `well_ident` field in the orphaned wells dataset.\n",
    "- **Merged Data**: Combined well data with shapes and orphaned wells data to create a detailed dataset of orphan wells.\n",
    "- **Filtered Data**: Separated the dataset into plugged and unplugged wells for focused analysis.\n",
    "\n",
    "### 2. Inspection and Violation Data\n",
    "\n",
    "- **Merged Inspection and Violation Data**: Incorporated inspection and violation dates into the orphan wells dataset.\n",
    "- **Handled Missing/Invalid Dates**: Cleaned the data to ensure valid dates for meaningful analysis.\n",
    "\n",
    "### 3. Visualization\n",
    "\n",
    "- **Distribution of Plugged and Unplugged Wells**: Created maps to visualize the spatial distribution of plugged and unplugged orphan wells in Texas.\n",
    "- **Inspection and Violation Analysis**: Analyzed the most recent inspection and violation dates, and visualized the data by district and district office.\n",
    "\n",
    "## Summary of Findings\n",
    "\n",
    "### Spatial Distribution\n",
    "\n",
    "- **Plugged Wells**: A small number of orphan wells have been plugged.\n",
    "- **Unplugged Wells**: A significant number of orphan wells remain unplugged.\n",
    "\n",
    "### Inspection and Violation History\n",
    "\n",
    "- **Inspection Dates**: The distribution of the most recent inspection dates varies across different districts and district offices, with some areas showing more recent activity.\n",
    "- **Violation Dates**: The distribution of violation dates also varies, highlighting areas where regulatory enforcement may be more active.\n",
    "\n"
   ]
  },
  {
   "cell_type": "markdown",
   "metadata": {},
   "source": [
    "---"
   ]
  },
  {
   "cell_type": "code",
   "execution_count": 3,
   "metadata": {},
   "outputs": [],
   "source": [
    "import pandas as pd\n",
    "import geopandas as gpd\n",
    "from sqlalchemy import create_engine, text\n",
    "import os\n",
    "from shapely.geometry import Point\n",
    "\n",
    "\n",
    "# Get environment variables for PostgreSQL connection\n",
    "db_user = os.environ.get('DB_USER')\n",
    "db_password = os.environ.get('DB_PASSWORD') \n",
    "db_host = os.environ.get('DB_HOST')\n",
    "db_port = os.environ.get('DB_PORT')\n",
    " \n",
    "\n",
    "# Create a connection to the PostgreSQL database\n",
    "engine = create_engine(f'postgresql://{db_user}:{db_password}@{db_host}:{db_port}/texas_oil')\n",
    "\n",
    "# Load the datasets\n",
    "well_data = pd.read_sql(\"SELECT * FROM well_data\", engine)\n",
    "well_shapes = gpd.read_postgis(\"SELECT * FROM well_shapes\", engine, geom_col='geometry')\n",
    "orphaned_wells_shape = gpd.read_postgis(\"SELECT * FROM orphaned_wells_shape\", engine, geom_col='geom')"
   ]
  },
  {
   "cell_type": "code",
   "execution_count": null,
   "metadata": {},
   "outputs": [],
   "source": [
    "# Extract the 8-digit API number from well_ident in orphaned_wells_shape\n",
    "orphaned_wells_shape['api_no'] = orphaned_wells_shape['well_ident'].str[9:17]\n",
    "\n",
    "# Confirm the changes\n",
    "print(orphaned_wells_shape['api_no'].str.len().value_counts())\n"
   ]
  },
  {
   "cell_type": "code",
   "execution_count": null,
   "metadata": {},
   "outputs": [],
   "source": [
    "# Merge well_data with well_shapes\n",
    "well_data_merged = well_data.merge(well_shapes, left_on='api_num', right_on='api', how='left')\n",
    "\n",
    "# Merge orphaned wells with well data\n",
    "orphan_wells_detailed = orphaned_wells_shape.merge(well_data_merged, left_on='api_no', right_on='api_num', how='left')\n",
    "\n",
    "# Check the number of rows in the merged dataset\n",
    "print(f\"Number of rows in orphan_wells_detailed: {orphan_wells_detailed.shape[0]}\")\n"
   ]
  },
  {
   "cell_type": "code",
   "execution_count": null,
   "metadata": {},
   "outputs": [],
   "source": [
    "# Filter for plugged and unplugged orphan wells and make explicit copies\n",
    "plugged_wells = orphan_wells_detailed[~orphan_wells_detailed['plug_date'].isna()].copy()\n",
    "unplugged_wells = orphan_wells_detailed[orphan_wells_detailed['plug_date'].isna()].copy()\n",
    "\n",
    "# Confirm the shapes of the DataFrames\n",
    "print(f\"Plugged wells: {plugged_wells.shape}\")\n",
    "print(f\"Unplugged wells: {unplugged_wells.shape}\")\n"
   ]
  },
  {
   "cell_type": "code",
   "execution_count": null,
   "metadata": {},
   "outputs": [],
   "source": [
    "from shapely.geometry import Point\n",
    "\n",
    "# Ensure the geometry is of type Point\n",
    "plugged_wells['geometry'] = plugged_wells['geom'].apply(lambda geom: Point(geom) if not isinstance(geom, Point) else geom)\n",
    "unplugged_wells['geometry'] = unplugged_wells['geom'].apply(lambda geom: Point(geom) if not isinstance(geom, Point) else geom)\n",
    "\n",
    "# Confirm the conversion\n",
    "print(plugged_wells['geometry'].head())\n",
    "print(unplugged_wells['geometry'].head())\n"
   ]
  },
  {
   "cell_type": "code",
   "execution_count": null,
   "metadata": {},
   "outputs": [],
   "source": [
    "# Ensure api_no columns are strings of 8 digits\n",
    "plugged_wells['api_no'] = plugged_wells['api_no'].astype(str).str.zfill(8)\n",
    "unplugged_wells['api_no'] = unplugged_wells['api_no'].astype(str).str.zfill(8)\n"
   ]
  },
  {
   "cell_type": "code",
   "execution_count": null,
   "metadata": {},
   "outputs": [],
   "source": [
    "from sqlalchemy import text\n",
    "\n",
    "# Create SQL commands to create the tables\n",
    "create_plugged_wells_table = \"\"\"\n",
    "CREATE TABLE IF NOT EXISTS plugged_orphan_wells (\n",
    "    id SERIAL PRIMARY KEY,\n",
    "    api_no VARCHAR(8),\n",
    "    plug_date DATE,\n",
    "    geometry GEOMETRY(Point, 4326),\n",
    "    operator VARCHAR,\n",
    "    lease_name VARCHAR,\n",
    "    completion_date DATE\n",
    ");\n",
    "\"\"\"\n",
    "\n",
    "create_unplugged_wells_table = \"\"\"\n",
    "CREATE TABLE IF NOT EXISTS unplugged_orphan_wells (\n",
    "    id SERIAL PRIMARY KEY,\n",
    "    api_no VARCHAR(8),\n",
    "    plug_date DATE,\n",
    "    geometry GEOMETRY(Point, 4326),\n",
    "    operator VARCHAR,\n",
    "    lease_name VARCHAR,\n",
    "    completion_date DATE\n",
    ");\n",
    "\"\"\"\n",
    "\n",
    "# Execute the SQL commands\n",
    "with engine.connect() as conn:\n",
    "    conn.execute(text(create_plugged_wells_table))\n",
    "    conn.execute(text(create_unplugged_wells_table))\n",
    "\n",
    "# Write the DataFrames to the PostgreSQL database\n",
    "plugged_wells.to_postgis('plugged_orphan_wells', engine, if_exists='replace', index=False)\n",
    "unplugged_wells.to_postgis('unplugged_orphan_wells', engine, if_exists='replace', index=False)\n",
    "\n",
    "print(\"Data inserted into PostgreSQL tables successfully.\")\n"
   ]
  },
  {
   "cell_type": "code",
   "execution_count": null,
   "metadata": {},
   "outputs": [],
   "source": [
    "# Check if the data has been correctly inserted into the plugged_orphan_wells table\n",
    "plugged_wells_in_db = gpd.read_postgis(\"SELECT * FROM plugged_orphan_wells\", engine, geom_col='geom')\n",
    "print(f\"Plugged wells in database: {plugged_wells_in_db.shape}\")\n",
    "\n",
    "# Check if the data has been correctly inserted into the unplugged_orphan_wells table\n",
    "unplugged_wells_in_db = gpd.read_postgis(\"SELECT * FROM unplugged_orphan_wells\", engine, geom_col='geom')\n",
    "print(f\"Unplugged wells in database: {unplugged_wells_in_db.shape}\")\n"
   ]
  },
  {
   "cell_type": "code",
   "execution_count": null,
   "metadata": {},
   "outputs": [],
   "source": [
    "import matplotlib.pyplot as plt\n",
    "\n",
    "# Plot the plugged and unplugged wells\n",
    "fig, ax = plt.subplots(1, 1, figsize=(15, 10))\n",
    "plugged_wells_in_db.plot(ax=ax, color='blue', marker='o', label='Plugged Wells')\n",
    "unplugged_wells_in_db.plot(ax=ax, color='red', marker='x', label='Unplugged Wells')\n",
    "plt.title('Plugged and Unplugged Orphan Wells in Texas', fontsize=20)\n",
    "plt.xlabel('Longitude', fontsize=15)\n",
    "plt.ylabel('Latitude', fontsize=15)\n",
    "plt.legend()\n",
    "plt.show()\n"
   ]
  },
  {
   "cell_type": "code",
   "execution_count": null,
   "metadata": {},
   "outputs": [],
   "source": [
    "import seaborn as sns\n",
    "\n",
    "# Plotting the spatial distribution using seaborn for better clarity\n",
    "plt.figure(figsize=(15, 10))\n",
    "sns.scatterplot(x=plugged_wells_in_db.geometry.x, y=plugged_wells_in_db.geometry.y, color='blue', marker='o', label='Plugged Wells')\n",
    "sns.scatterplot(x=unplugged_wells_in_db.geometry.x, y=unplugged_wells_in_db.geometry.y, color='red', marker='x', label='Unplugged Wells')\n",
    "plt.title('Plugged and Unplugged Orphan Wells in Texas', fontsize=20)\n",
    "plt.xlabel('Longitude', fontsize=15)\n",
    "plt.ylabel('Latitude', fontsize=15)\n",
    "plt.legend()\n",
    "plt.show()\n"
   ]
  },
  {
   "cell_type": "code",
   "execution_count": null,
   "metadata": {},
   "outputs": [],
   "source": [
    "# Basic summary statistics\n",
    "plugged_wells_summary = plugged_wells.describe()\n",
    "unplugged_wells_summary = unplugged_wells.describe()\n",
    "\n",
    "print(\"Summary Statistics for Plugged Wells:\")\n",
    "print(plugged_wells_summary)\n",
    "\n",
    "print(\"\\nSummary Statistics for Unplugged Wells:\")\n",
    "print(unplugged_wells_summary)\n"
   ]
  },
  {
   "cell_type": "code",
   "execution_count": null,
   "metadata": {},
   "outputs": [],
   "source": [
    "# Distribution of plugged wells by operator\n",
    "plugged_operator_distribution = plugged_wells['operator'].value_counts()\n",
    "print(\"Plugged Wells by Operator:\")\n",
    "print(plugged_operator_distribution)\n",
    "\n",
    "# Distribution of unplugged wells by operator\n",
    "unplugged_operator_distribution = unplugged_wells['operator'].value_counts()\n",
    "print(\"\\nUnplugged Wells by Operator:\")\n",
    "print(unplugged_operator_distribution)\n"
   ]
  },
  {
   "cell_type": "code",
   "execution_count": null,
   "metadata": {},
   "outputs": [],
   "source": [
    "# Load the datasets\n",
    "well_inspections = pd.read_sql(\"SELECT * FROM well_inspections\", engine)\n",
    "well_violations = pd.read_sql(\"SELECT * FROM well_violations\", engine)\n",
    "inspections = pd.read_sql(\"SELECT * FROM inspections\", engine)\n",
    "violations = pd.read_sql(\"SELECT * FROM violations\", engine)\n"
   ]
  },
  {
   "cell_type": "code",
   "execution_count": null,
   "metadata": {},
   "outputs": [],
   "source": [
    "# Standardize API numbers in well_inspections and well_violations\n",
    "well_inspections['api_well_id'] = well_inspections['api_well_id'].astype(str).str.zfill(8)\n",
    "well_violations['api_well_id'] = well_violations['api_well_id'].astype(str).str.zfill(8)\n"
   ]
  },
  {
   "cell_type": "code",
   "execution_count": null,
   "metadata": {},
   "outputs": [],
   "source": [
    "# Merge unplugged wells with well_inspections to get inspection IDs\n",
    "unplugged_wells_with_inspections = unplugged_wells.merge(well_inspections, left_on='api_no', right_on='api_well_id', how='left')\n",
    "\n",
    "# Merge unplugged wells with well_violations to get violation IDs\n",
    "unplugged_wells_with_violations = unplugged_wells.merge(well_violations, left_on='api_no', right_on='api_well_id', how='left')\n",
    "\n",
    "# Merge unplugged_wells_with_inspections with inspections to get inspection dates\n",
    "unplugged_wells_with_inspection_dates = unplugged_wells_with_inspections.merge(\n",
    "    inspections[['id', 'inspection_date']], \n",
    "    left_on='inspection_id', right_on='id', how='left', suffixes=('', '_inspection'))\n",
    "\n",
    "# Merge unplugged_wells_with_violations with violations to get violation dates\n",
    "unplugged_wells_with_violation_dates = unplugged_wells_with_violations.merge(\n",
    "    violations[['id', 'violation_disc_date']], \n",
    "    left_on='violation_id', right_on='id', how='left', suffixes=('', '_violation'))\n",
    "\n",
    "# Drop the extra 'id' columns after merge\n",
    "unplugged_wells_with_inspection_dates.drop(['id'], axis=1, inplace=True)\n",
    "unplugged_wells_with_violation_dates.drop(['id'], axis=1, inplace=True)\n"
   ]
  },
  {
   "cell_type": "code",
   "execution_count": null,
   "metadata": {},
   "outputs": [],
   "source": [
    "# Combine the inspection and violation data\n",
    "unplugged_wells_full = unplugged_wells_with_inspection_dates.merge(\n",
    "    unplugged_wells_with_violation_dates, on='api_no', how='outer', suffixes=('', '_violation'))\n",
    "\n",
    "# Confirm the final DataFrame\n",
    "print(unplugged_wells_full.columns)\n"
   ]
  },
  {
   "cell_type": "code",
   "execution_count": null,
   "metadata": {},
   "outputs": [],
   "source": [
    "# Group by api_no to find the most recent inspection and violation dates\n",
    "most_recent_inspections = unplugged_wells_full.groupby('api_no')['inspection_date'].max().reset_index()\n",
    "most_recent_violations = unplugged_wells_full.groupby('api_no')['violation_disc_date'].max().reset_index()\n",
    "\n",
    "# Merge the most recent dates back to the unplugged_wells_full DataFrame\n",
    "unplugged_wells_full = unplugged_wells_full.merge(most_recent_inspections, on='api_no', suffixes=('', '_most_recent_inspection'))\n",
    "unplugged_wells_full = unplugged_wells_full.merge(most_recent_violations, on='api_no', suffixes=('', '_most_recent_violation'))\n",
    "\n",
    "# Confirm the final DataFrame\n",
    "print(unplugged_wells_full[['api_no', 'inspection_date_most_recent_inspection', 'violation_disc_date_most_recent_violation']].head())\n"
   ]
  },
  {
   "cell_type": "code",
   "execution_count": null,
   "metadata": {},
   "outputs": [],
   "source": [
    "# Summary statistics for inspection dates of unplugged wells\n",
    "inspection_date_summary_unplugged = unplugged_wells_full['inspection_date_most_recent_inspection'].describe()\n",
    "print(\"Summary Statistics for Most Recent Inspection Dates (Unplugged Wells):\")\n",
    "print(inspection_date_summary_unplugged)\n",
    "\n",
    "# Summary statistics for violation dates of unplugged wells\n",
    "violation_date_summary_unplugged = unplugged_wells_full['violation_disc_date_most_recent_violation'].describe()\n",
    "print(\"\\nSummary Statistics for Most Recent Violation Dates (Unplugged Wells):\")\n",
    "print(violation_date_summary_unplugged)\n"
   ]
  },
  {
   "cell_type": "code",
   "execution_count": null,
   "metadata": {},
   "outputs": [],
   "source": [
    "import matplotlib.pyplot as plt\n",
    "\n",
    "# Plot the distribution of inspection dates for unplugged wells\n",
    "plt.figure(figsize=(10, 6))\n",
    "unplugged_wells_full['inspection_date_most_recent_inspection'].dropna().hist(bins=20)\n",
    "plt.title('Distribution of Most Recent Inspection Dates (Unplugged Wells)')\n",
    "plt.xlabel('Inspection Date')\n",
    "plt.ylabel('Frequency')\n",
    "plt.show()\n"
   ]
  },
  {
   "cell_type": "code",
   "execution_count": null,
   "metadata": {},
   "outputs": [],
   "source": [
    "# Plot the distribution of violation dates for unplugged wells\n",
    "plt.figure(figsize=(10, 6))\n",
    "unplugged_wells_full['violation_disc_date_most_recent_violation'].dropna().hist(bins=20)\n",
    "plt.title('Distribution of Most Recent Violation Dates (Unplugged Wells)')\n",
    "plt.xlabel('Violation Date')\n",
    "plt.ylabel('Frequency')\n",
    "plt.show()\n"
   ]
  },
  {
   "cell_type": "code",
   "execution_count": null,
   "metadata": {},
   "outputs": [],
   "source": [
    "# Merge unplugged wells with inspections to get operator names\n",
    "unplugged_wells_with_operator = unplugged_wells_full.merge(\n",
    "    inspections[['id', 'operator_name']], \n",
    "    left_on='inspection_id', right_on='id', how='left', suffixes=('', '_inspection'))\n",
    "\n",
    "# Confirm the final DataFrame\n",
    "print(unplugged_wells_with_operator[['api_no', 'inspection_date_most_recent_inspection', 'violation_disc_date_most_recent_violation', 'operator_name']].head())\n"
   ]
  },
  {
   "cell_type": "code",
   "execution_count": null,
   "metadata": {},
   "outputs": [],
   "source": [
    "# Group by operator_name to get summary statistics for inspection dates\n",
    "inspection_date_by_operator = unplugged_wells_with_operator.groupby('operator_name')['inspection_date_most_recent_inspection'].describe()\n",
    "print(\"Summary Statistics for Most Recent Inspection Dates by Operator:\")\n",
    "print(inspection_date_by_operator)\n",
    "\n",
    "# Group by operator_name to get summary statistics for violation dates\n",
    "violation_date_by_operator = unplugged_wells_with_operator.groupby('operator_name')['violation_disc_date_most_recent_violation'].describe()\n",
    "print(\"\\nSummary Statistics for Most Recent Violation Dates by Operator:\")\n",
    "print(violation_date_by_operator)\n"
   ]
  },
  {
   "cell_type": "code",
   "execution_count": null,
   "metadata": {},
   "outputs": [],
   "source": [
    "import matplotlib.pyplot as plt\n",
    "import seaborn as sns\n",
    "import pandas as pd\n",
    "\n",
    "# Defragment the DataFrame\n",
    "unplugged_wells_with_operator = unplugged_wells_with_operator.copy()\n",
    "\n",
    "# Convert inspection dates to datetime if necessary\n",
    "if unplugged_wells_with_operator['inspection_date_most_recent_inspection'].dtype != 'datetime64[ns]':\n",
    "    unplugged_wells_with_operator['inspection_date_most_recent_inspection'] = pd.to_datetime(unplugged_wells_with_operator['inspection_date_most_recent_inspection'])\n",
    "\n",
    "# Plot the distribution of inspection dates by operator for unplugged wells\n",
    "plt.figure(figsize=(15, 10))\n",
    "sns.histplot(data=unplugged_wells_with_operator, \n",
    "             x='inspection_date_most_recent_inspection', \n",
    "             hue='operator_name', \n",
    "             multiple='stack', \n",
    "             bins=20, \n",
    "             palette='Set1')\n",
    "\n",
    "# Title and labels\n",
    "plt.title('Distribution of Most Recent Inspection Dates by Operator (Unplugged Wells)', fontsize=16)\n",
    "plt.xlabel('Inspection Date', fontsize=14)\n",
    "plt.ylabel('Frequency', fontsize=14)\n",
    "\n",
    "# Customize legend\n",
    "plt.legend(title='Operator', title_fontsize='13', fontsize='11', loc='upper right')\n",
    "\n",
    "# Display the plot\n",
    "plt.tight_layout()\n",
    "plt.show()\n"
   ]
  },
  {
   "cell_type": "code",
   "execution_count": null,
   "metadata": {},
   "outputs": [],
   "source": [
    "import matplotlib.pyplot as plt\n",
    "import seaborn as sns\n",
    "import pandas as pd\n",
    "\n",
    "# Defragment the DataFrame\n",
    "unplugged_wells_with_operator = unplugged_wells_with_operator.copy()\n",
    "\n",
    "# Convert violation dates to datetime if necessary\n",
    "if unplugged_wells_with_operator['violation_disc_date_most_recent_violation'].dtype != 'datetime64[ns]':\n",
    "    unplugged_wells_with_operator['violation_disc_date_most_recent_violation'] = pd.to_datetime(unplugged_wells_with_operator['violation_disc_date_most_recent_violation'])\n",
    "\n",
    "# Plot the distribution of violation dates by operator for unplugged wells\n",
    "plt.figure(figsize=(15, 10))\n",
    "sns.histplot(data=unplugged_wells_with_operator, \n",
    "             x='violation_disc_date_most_recent_violation', \n",
    "             hue='operator_name', \n",
    "             multiple='stack', \n",
    "             bins=20, \n",
    "             palette='Set1')\n",
    "\n",
    "# Title and labels\n",
    "plt.title('Distribution of Most Recent Violation Dates by Operator (Unplugged Wells)', fontsize=16)\n",
    "plt.xlabel('Violation Date', fontsize=14)\n",
    "plt.ylabel('Frequency', fontsize=14)\n",
    "\n",
    "# Customize legend\n",
    "plt.legend(title='Operator', title_fontsize='13', fontsize='11', loc='upper right')\n",
    "\n",
    "# Display the plot\n",
    "plt.tight_layout()\n",
    "plt.show()\n"
   ]
  },
  {
   "cell_type": "code",
   "execution_count": null,
   "metadata": {},
   "outputs": [],
   "source": [
    "# Merge unplugged wells with inspections to get district and district office information\n",
    "unplugged_wells_with_district = unplugged_wells_full.merge(\n",
    "    inspections[['id', 'operator_name', 'district', 'district_office_inspecting']], \n",
    "    left_on='inspection_id', right_on='id', how='left', suffixes=('', '_inspection'))\n",
    "\n",
    "# Confirm the final DataFrame\n",
    "print(unplugged_wells_with_district[['api_no', 'inspection_date_most_recent_inspection', 'violation_disc_date_most_recent_violation', 'operator_name', 'district', 'district_office_inspecting']].head())\n"
   ]
  },
  {
   "cell_type": "code",
   "execution_count": null,
   "metadata": {},
   "outputs": [],
   "source": [
    "# Group by district to get summary statistics for inspection dates\n",
    "inspection_date_by_district = unplugged_wells_with_district.groupby('district')['inspection_date_most_recent_inspection'].describe()\n",
    "print(\"Summary Statistics for Most Recent Inspection Dates by District:\")\n",
    "print(inspection_date_by_district)\n",
    "\n",
    "# Group by district office to get summary statistics for inspection dates\n",
    "inspection_date_by_district_office = unplugged_wells_with_district.groupby('district_office_inspecting')['inspection_date_most_recent_inspection'].describe()\n",
    "print(\"\\nSummary Statistics for Most Recent Inspection Dates by District Office:\")\n",
    "print(inspection_date_by_district_office)\n",
    "\n",
    "# Group by district to get summary statistics for violation dates\n",
    "violation_date_by_district = unplugged_wells_with_district.groupby('district')['violation_disc_date_most_recent_violation'].describe()\n",
    "print(\"\\nSummary Statistics for Most Recent Violation Dates by District:\")\n",
    "print(violation_date_by_district)\n",
    "\n",
    "# Group by district office to get summary statistics for violation dates\n",
    "violation_date_by_district_office = unplugged_wells_with_district.groupby('district_office_inspecting')['violation_disc_date_most_recent_violation'].describe()\n",
    "print(\"\\nSummary Statistics for Most Recent Violation Dates by District Office:\")\n",
    "print(violation_date_by_district_office)\n"
   ]
  },
  {
   "cell_type": "code",
   "execution_count": null,
   "metadata": {},
   "outputs": [],
   "source": [
    "# Convert dates to datetime\n",
    "unplugged_wells_with_district['inspection_date_most_recent_inspection'] = pd.to_datetime(unplugged_wells_with_district['inspection_date_most_recent_inspection'])\n",
    "unplugged_wells_with_district['violation_disc_date_most_recent_violation'] = pd.to_datetime(unplugged_wells_with_district['violation_disc_date_most_recent_violation'])\n",
    "\n",
    "# Extract year from the dates\n",
    "unplugged_wells_with_district['inspection_year'] = unplugged_wells_with_district['inspection_date_most_recent_inspection'].dt.year\n",
    "unplugged_wells_with_district['violation_year'] = unplugged_wells_with_district['violation_disc_date_most_recent_violation'].dt.year\n"
   ]
  },
  {
   "cell_type": "code",
   "execution_count": null,
   "metadata": {},
   "outputs": [],
   "source": [
    "import seaborn as sns\n",
    "import matplotlib.pyplot as plt\n",
    "\n",
    "# Facet plot for inspection dates by district\n",
    "g = sns.FacetGrid(unplugged_wells_with_district, col=\"district\", col_wrap=4, height=4, sharey=False)\n",
    "g.map_dataframe(sns.histplot, x=\"inspection_year\", bins=15)\n",
    "g.set_titles(col_template=\"District {col_name}\")\n",
    "g.set_axis_labels(\"Year\", \"Frequency\")\n",
    "g.fig.suptitle('Distribution of Most Recent Inspection Dates by District (Unplugged Wells)', y=1.02)\n",
    "plt.show()\n"
   ]
  },
  {
   "cell_type": "code",
   "execution_count": null,
   "metadata": {},
   "outputs": [],
   "source": [
    "# Facet plot for inspection dates by district office\n",
    "g = sns.FacetGrid(unplugged_wells_with_district, col=\"district_office_inspecting\", col_wrap=4, height=4, sharey=False)\n",
    "g.map_dataframe(sns.histplot, x=\"inspection_year\", bins=15)\n",
    "g.set_titles(col_template=\"District Office {col_name}\")\n",
    "g.set_axis_labels(\"Year\", \"Frequency\")\n",
    "g.fig.suptitle('Distribution of Most Recent Inspection Dates by District Office (Unplugged Wells)', y=1.02)\n",
    "plt.show()\n"
   ]
  },
  {
   "cell_type": "code",
   "execution_count": null,
   "metadata": {},
   "outputs": [],
   "source": [
    "# Check for missing or invalid violation dates\n",
    "print(unplugged_wells_with_district['violation_year'].isna().sum())\n",
    "print(unplugged_wells_with_district['violation_year'].describe())\n",
    "\n",
    "# Filter out rows with invalid violation dates (e.g., years far in the past or future)\n",
    "valid_violation_years = unplugged_wells_with_district[unplugged_wells_with_district['violation_year'] > 1900]\n",
    "\n",
    "# Confirm the changes\n",
    "print(valid_violation_years['violation_year'].describe())\n"
   ]
  },
  {
   "cell_type": "code",
   "execution_count": null,
   "metadata": {},
   "outputs": [],
   "source": [
    "# Facet plot for violation dates by district after cleaning\n",
    "g = sns.FacetGrid(valid_violation_years, col=\"district\", col_wrap=4, height=4, sharey=False)\n",
    "g.map_dataframe(sns.histplot, x=\"violation_year\", bins=15)\n",
    "g.set_titles(col_template=\"District {col_name}\")\n",
    "g.set_axis_labels(\"Year\", \"Frequency\")\n",
    "g.fig.suptitle('Distribution of Most Recent Violation Dates by District (Unplugged Wells)', y=1.02)\n",
    "plt.show()\n"
   ]
  },
  {
   "cell_type": "code",
   "execution_count": null,
   "metadata": {},
   "outputs": [],
   "source": [
    "# Facet plot for violation dates by district office after cleaning\n",
    "g = sns.FacetGrid(valid_violation_years, col=\"district_office_inspecting\", col_wrap=4, height=4, sharey=False)\n",
    "g.map_dataframe(sns.histplot, x=\"violation_year\", bins=15)\n",
    "g.set_titles(col_template=\"District Office {col_name}\")\n",
    "g.set_axis_labels(\"Year\", \"Frequency\")\n",
    "g.fig.suptitle('Distribution of Most Recent Violation Dates by District Office (Unplugged Wells)', y=1.02)\n",
    "plt.show()\n"
   ]
  }
 ],
 "metadata": {
  "kernelspec": {
   "display_name": "funkyfunk",
   "language": "python",
   "name": "python3"
  },
  "language_info": {
   "codemirror_mode": {
    "name": "ipython",
    "version": 3
   },
   "file_extension": ".py",
   "mimetype": "text/x-python",
   "name": "python",
   "nbconvert_exporter": "python",
   "pygments_lexer": "ipython3",
   "version": "3.9.19"
  }
 },
 "nbformat": 4,
 "nbformat_minor": 2
}
